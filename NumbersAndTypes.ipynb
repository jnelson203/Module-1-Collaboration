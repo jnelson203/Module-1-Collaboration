{
 "cells": [
  {
   "cell_type": "code",
   "execution_count": null,
   "id": "55749f1c-3e9e-4206-a607-e78fb9d535b6",
   "metadata": {},
   "outputs": [],
   "source": [
    "# 3.1 Calculate the number of seconds in an hour\n",
    "seconds_in_minute = 60\n",
    "minutes_in_hour = 60\n",
    "seconds_in_hour = seconds_in_minute * minutes_in_hour\n",
    "print(seconds_in_hour)  # Output: 3600\n",
    "\n",
    "# 3.2 Assign the result to a variable called seconds_per_hour\n",
    "seconds_per_hour = seconds_in_hour\n",
    "\n",
    "# 3.3 Calculate the number of seconds in a day using seconds_per_hour\n",
    "hours_in_day = 24\n",
    "seconds_in_day = seconds_per_hour * hours_in_day\n",
    "print(seconds_in_day)  # Output: 86400\n",
    "\n",
    "# 3.4 Save the result in a variable called seconds_per_day\n",
    "seconds_per_day = seconds_in_day\n",
    "\n",
    "# 3.5 Divide seconds_per_day by seconds_per_hour using floating-point division\n",
    "floating_point_division = seconds_per_day / seconds_per_hour\n",
    "print(floating_point_division)  # Output: 24.0\n",
    "\n",
    "# 3.6 Divide seconds_per_day by seconds_per_hour using integer division\n",
    "integer_division = seconds_per_day // seconds_per_hour\n",
    "print(integer_division)  # Output: 24\n",
    "\n",
    "# The integer division result agrees with the floating-point result aside from the .0."
   ]
  }
 ],
 "metadata": {
  "kernelspec": {
   "display_name": "Python 3 (ipykernel)",
   "language": "python",
   "name": "python3"
  },
  "language_info": {
   "codemirror_mode": {
    "name": "ipython",
    "version": 3
   },
   "file_extension": ".py",
   "mimetype": "text/x-python",
   "name": "python",
   "nbconvert_exporter": "python",
   "pygments_lexer": "ipython3",
   "version": "3.12.7"
  }
 },
 "nbformat": 4,
 "nbformat_minor": 5
}
